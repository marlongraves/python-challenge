{
 "cells": [
  {
   "cell_type": "code",
   "execution_count": 1,
   "id": "43811e80-c7cd-428b-b02e-0aac52171937",
   "metadata": {},
   "outputs": [],
   "source": [
    "import pandas as pd\n",
    "import csv\n",
    "from pathlib import Path"
   ]
  },
  {
   "cell_type": "code",
   "execution_count": 2,
   "id": "2e440ce9-6082-4481-9ba8-ed1f336c807f",
   "metadata": {},
   "outputs": [],
   "source": [
    "input_file = Path('Resources/budget_data.csv') \n",
    "output_file= Path('analysis/budget_anaysis.txt')"
   ]
  },
  {
   "cell_type": "code",
   "execution_count": 3,
   "id": "fb2ed46d-97ff-4dd2-a9c9-103d6fbf3c48",
   "metadata": {},
   "outputs": [
    {
     "data": {
      "text/html": [
       "<div>\n",
       "<style scoped>\n",
       "    .dataframe tbody tr th:only-of-type {\n",
       "        vertical-align: middle;\n",
       "    }\n",
       "\n",
       "    .dataframe tbody tr th {\n",
       "        vertical-align: top;\n",
       "    }\n",
       "\n",
       "    .dataframe thead th {\n",
       "        text-align: right;\n",
       "    }\n",
       "</style>\n",
       "<table border=\"1\" class=\"dataframe\">\n",
       "  <thead>\n",
       "    <tr style=\"text-align: right;\">\n",
       "      <th></th>\n",
       "      <th>Date</th>\n",
       "      <th>Profit/Losses</th>\n",
       "    </tr>\n",
       "  </thead>\n",
       "  <tbody>\n",
       "    <tr>\n",
       "      <th>0</th>\n",
       "      <td>Jan-2010</td>\n",
       "      <td>867884</td>\n",
       "    </tr>\n",
       "    <tr>\n",
       "      <th>1</th>\n",
       "      <td>Feb-2010</td>\n",
       "      <td>984655</td>\n",
       "    </tr>\n",
       "    <tr>\n",
       "      <th>2</th>\n",
       "      <td>Mar-2010</td>\n",
       "      <td>322013</td>\n",
       "    </tr>\n",
       "    <tr>\n",
       "      <th>3</th>\n",
       "      <td>Apr-2010</td>\n",
       "      <td>-69417</td>\n",
       "    </tr>\n",
       "    <tr>\n",
       "      <th>4</th>\n",
       "      <td>May-2010</td>\n",
       "      <td>310503</td>\n",
       "    </tr>\n",
       "  </tbody>\n",
       "</table>\n",
       "</div>"
      ],
      "text/plain": [
       "       Date  Profit/Losses\n",
       "0  Jan-2010         867884\n",
       "1  Feb-2010         984655\n",
       "2  Mar-2010         322013\n",
       "3  Apr-2010         -69417\n",
       "4  May-2010         310503"
      ]
     },
     "execution_count": 3,
     "metadata": {},
     "output_type": "execute_result"
    }
   ],
   "source": [
    "sales_dataframe = pd.read_csv(input_file)\n",
    "sales_dataframe.head()"
   ]
  },
  {
   "cell_type": "code",
   "execution_count": 4,
   "id": "a0fccb69-6c3b-47d3-87ed-0ec7befc65ab",
   "metadata": {},
   "outputs": [],
   "source": [
    "total_months = 0\n",
    "month_of_change = []\n",
    "net_change_list = []\n",
    "greatest_increase = [\"\", 0]\n",
    "greatest_decrease = [\"\", 9999999999999999999]\n",
    "total_net = 0\n"
   ]
  },
  {
   "cell_type": "code",
   "execution_count": 5,
   "id": "0e451898-88e8-4262-9824-a67fc597e857",
   "metadata": {},
   "outputs": [],
   "source": [
    "with open(input_file) as financial_data:\n",
    "    reader=csv.reader(financial_data)\n",
    "    \n",
    "    header = next(reader)\n",
    "    \n",
    "    first_row = next(reader)\n",
    "    \n",
    "    total_months + 1\n",
    "    total_net = total_net + int(first_row[1])\n",
    "    prev_net = int(first_row[1])\n",
    "    \n",
    "    for row in reader:\n",
    "        total_months = total_months + 1\n",
    "        total_net = total_net + int(first_row[1])\n",
    "        \n",
    "        net_change = int(first_row[1]) - prev_net\n",
    "        prev_net = int(first_row[1])\n",
    "        net_change_list =  net_change_list + [net_change]\n",
    "        month_of_change = month_of_change + [row[0]]\n",
    "        \n",
    "        if net_change > greatest_increase[1]:\n",
    "            greatest_increase[0]=row[0]\n",
    "            greatest_increase =net_change\n",
    "            \n",
    "        if net_change < greatest_decrease[1]:\n",
    "            greatest_decrease[0]=row[0]\n",
    "            greatest_decrease[1]=net_change\n"
   ]
  },
  {
   "cell_type": "code",
   "execution_count": 8,
   "id": "47bc0b66-f80b-4499-a3fb-58177d9d3c4d",
   "metadata": {},
   "outputs": [
    {
     "data": {
      "text/plain": [
       "0.0"
      ]
     },
     "execution_count": 8,
     "metadata": {},
     "output_type": "execute_result"
    }
   ],
   "source": [
    "#Calculate the average net change\n",
    "\n",
    "net_monthly_avg = round(sum(net_change_list) / len(net_change_list), 2)\n",
    "net_monthly_avg"
   ]
  },
  {
   "cell_type": "code",
   "execution_count": null,
   "id": "6aafdfb7-645a-425c-be5d-6879c2f9df89",
   "metadata": {},
   "outputs": [],
   "source": [
    "#Export the results to a txt file \n",
    "with open(output_file, \"w\") as txt_file:\n",
    "    txt_file.write(f'Financial Analysis\\n\")"
   ]
  }
 ],
 "metadata": {
  "kernelspec": {
   "display_name": "Python 3 (ipykernel)",
   "language": "python",
   "name": "python3"
  },
  "language_info": {
   "codemirror_mode": {
    "name": "ipython",
    "version": 3
   },
   "file_extension": ".py",
   "mimetype": "text/x-python",
   "name": "python",
   "nbconvert_exporter": "python",
   "pygments_lexer": "ipython3",
   "version": "3.10.10"
  }
 },
 "nbformat": 4,
 "nbformat_minor": 5
}
